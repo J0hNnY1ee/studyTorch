{
 "cells": [
  {
   "cell_type": "code",
   "execution_count": 2,
   "metadata": {},
   "outputs": [],
   "source": [
    "import torch"
   ]
  },
  {
   "cell_type": "code",
   "execution_count": 3,
   "metadata": {},
   "outputs": [
    {
     "name": "stdout",
     "output_type": "stream",
     "text": [
      "<class 'torch.Tensor'>\n"
     ]
    },
    {
     "data": {
      "text/plain": [
       "tensor([[4.7359e-35, 0.0000e+00, 0.0000e+00],\n",
       "        [0.0000e+00,        nan, 0.0000e+00],\n",
       "        [7.3470e+28, 6.1425e+28, 7.1441e+31],\n",
       "        [6.9987e+22, 7.8675e+34, 4.7418e+30],\n",
       "        [5.9663e-02, 7.0374e+22, 0.0000e+00]])"
      ]
     },
     "execution_count": 3,
     "metadata": {},
     "output_type": "execute_result"
    }
   ],
   "source": [
    "x = torch.empty(5, 3)\n",
    "print(type(x))\n",
    "x"
   ]
  },
  {
   "cell_type": "code",
   "execution_count": 4,
   "metadata": {},
   "outputs": [
    {
     "name": "stdout",
     "output_type": "stream",
     "text": [
      "tensor([[1., 1., 1.],\n",
      "        [1., 1., 1.]])\n"
     ]
    },
    {
     "data": {
      "text/plain": [
       "tensor([[0., 0., 0.],\n",
       "        [0., 0., 0.]])"
      ]
     },
     "execution_count": 4,
     "metadata": {},
     "output_type": "execute_result"
    }
   ],
   "source": [
    "tensor_ones = torch.ones(2,3)\n",
    "print(tensor_ones)\n",
    "tensor_zeros =  torch.zeros(2,3)\n",
    "tensor_zeros"
   ]
  },
  {
   "cell_type": "code",
   "execution_count": 5,
   "metadata": {},
   "outputs": [
    {
     "name": "stdout",
     "output_type": "stream",
     "text": [
      "torch.float32\n"
     ]
    },
    {
     "data": {
      "text/plain": [
       "torch.int64"
      ]
     },
     "execution_count": 5,
     "metadata": {},
     "output_type": "execute_result"
    }
   ],
   "source": [
    "print(tensor_zeros.dtype)\n",
    "tensor_zeros_int = torch.zeros(2,3,dtype=torch.long)\n",
    "tensor_zeros_int.dtype"
   ]
  },
  {
   "cell_type": "code",
   "execution_count": 6,
   "metadata": {},
   "outputs": [
    {
     "data": {
      "text/plain": [
       "tensor([[0.3640, 0.9737, 0.3698],\n",
       "        [0.6653, 0.2733, 0.8518],\n",
       "        [0.3154, 0.4318, 0.3452],\n",
       "        [0.8414, 0.7911, 0.3519],\n",
       "        [0.8516, 0.5288, 0.1024]])"
      ]
     },
     "execution_count": 6,
     "metadata": {},
     "output_type": "execute_result"
    }
   ],
   "source": [
    "x = torch.rand(5,3)\n",
    "x"
   ]
  },
  {
   "cell_type": "code",
   "execution_count": 7,
   "metadata": {},
   "outputs": [
    {
     "name": "stdout",
     "output_type": "stream",
     "text": [
      "torch.Size([5, 3])\n"
     ]
    },
    {
     "data": {
      "text/plain": [
       "(5, 3)"
      ]
     },
     "execution_count": 7,
     "metadata": {},
     "output_type": "execute_result"
    }
   ],
   "source": [
    "x_size = x.size()\n",
    "print(x_size)\n",
    "\n",
    "row, col = x_size\n",
    "row,col"
   ]
  },
  {
   "cell_type": "code",
   "execution_count": 8,
   "metadata": {},
   "outputs": [
    {
     "data": {
      "text/plain": [
       "tensor([1, 2, 3, 4, 5, 6, 7, 8, 9])"
      ]
     },
     "execution_count": 8,
     "metadata": {},
     "output_type": "execute_result"
    }
   ],
   "source": [
    "torch.arange(1,10,1)"
   ]
  },
  {
   "cell_type": "code",
   "execution_count": 9,
   "metadata": {},
   "outputs": [
    {
     "name": "stdout",
     "output_type": "stream",
     "text": [
      "tensor([[1.2287, 1.5638, 0.8689],\n",
      "        [0.7202, 1.2671, 0.8708],\n",
      "        [1.2410, 1.3796, 1.1709],\n",
      "        [1.6806, 0.8074, 0.8743],\n",
      "        [0.9783, 1.4148, 0.1113]])\n",
      "tensor([[1.2287, 1.5638, 0.8689],\n",
      "        [0.7202, 1.2671, 0.8708],\n",
      "        [1.2410, 1.3796, 1.1709],\n",
      "        [1.6806, 0.8074, 0.8743],\n",
      "        [0.9783, 1.4148, 0.1113]])\n",
      "tensor([[1.2287, 1.5638, 0.8689],\n",
      "        [0.7202, 1.2671, 0.8708],\n",
      "        [1.2410, 1.3796, 1.1709],\n",
      "        [1.6806, 0.8074, 0.8743],\n",
      "        [0.9783, 1.4148, 0.1113]])\n",
      "tensor([[1.2287, 1.5638, 0.8689],\n",
      "        [0.7202, 1.2671, 0.8708],\n",
      "        [1.2410, 1.3796, 1.1709],\n",
      "        [1.6806, 0.8074, 0.8743],\n",
      "        [0.9783, 1.4148, 0.1113]])\n"
     ]
    }
   ],
   "source": [
    "y = torch.rand(5, 3)\n",
    "z1 = x + y\n",
    "print(z1)\n",
    "z2 = torch.add(x, y)\n",
    "print(z2)\n",
    "z3 = torch.empty(5, 3)\n",
    "torch.add(x, y, out=z3)\n",
    "print(z3)\n",
    "y.add_(x)\n",
    "print(y)  \n",
    "\n",
    "\n"
   ]
  },
  {
   "cell_type": "code",
   "execution_count": 10,
   "metadata": {},
   "outputs": [
    {
     "name": "stdout",
     "output_type": "stream",
     "text": [
      "tensor([[-0.8832,  0.6757, -1.2201],\n",
      "        [ 0.0288,  0.5482,  0.1299]])\n",
      "tensor([[-1.6309,  0.0462, -0.5324],\n",
      "        [ 1.6109,  1.0119, -1.0236]])\n",
      "tensor([[ 0.7477,  0.6294, -0.6877],\n",
      "        [-1.5820, -0.4637,  1.1536]])\n",
      "tensor([[ 1.4405,  0.0312,  0.6496],\n",
      "        [ 0.0464,  0.5548, -0.1330]])\n",
      "tensor([[ 0.5415, 14.6100,  2.2915],\n",
      "        [ 0.0179,  0.5418, -0.1269]])\n"
     ]
    }
   ],
   "source": [
    "a =torch.randn(2,3)\n",
    "print(a)\n",
    "b =torch.randn(2,3)\n",
    "print(b)\n",
    "\n",
    "c =torch.sub(a, b)\n",
    "print(c)\n",
    "d =torch.mul(a, b)\n",
    "print(d)\n",
    "e =torch.div(a, b)\n",
    "print(e)\n",
    "\n"
   ]
  },
  {
   "cell_type": "code",
   "execution_count": 11,
   "metadata": {},
   "outputs": [
    {
     "name": "stdout",
     "output_type": "stream",
     "text": [
      "tensor([[ 0.1790, -0.5927, -0.7099],\n",
      "        [-0.6463, -0.3751,  0.8342]])\n",
      "tensor([[ 0.2025, -0.5948],\n",
      "        [-0.1957, -0.0921],\n",
      "        [-0.5173,  1.2785]])\n",
      "tensor([[ 0.5195, -0.9595],\n",
      "        [-0.4890,  1.4855]])\n"
     ]
    }
   ],
   "source": [
    "a =torch.randn(2, 3)\n",
    "print(a)\n",
    "b =torch.randn(3, 2)\n",
    "print(b)\n",
    "c =torch.mm(a, b)\n",
    "print(c)\n"
   ]
  },
  {
   "cell_type": "code",
   "execution_count": 12,
   "metadata": {},
   "outputs": [
    {
     "name": "stdout",
     "output_type": "stream",
     "text": [
      "torch.Size([4, 4]) torch.Size([16]) torch.Size([16, 1])\n"
     ]
    }
   ],
   "source": [
    "x = torch.randn(4, 4)\n",
    "y = x.view(16)\n",
    "z = x.view(-1, 1)   # 使用-1时pytorch将会自动根据其他维度进行推导\n",
    "print(x.size(), y.size(), z.size()) "
   ]
  },
  {
   "cell_type": "code",
   "execution_count": 13,
   "metadata": {},
   "outputs": [
    {
     "name": "stdout",
     "output_type": "stream",
     "text": [
      "tensor([[ 0.5539, -0.5983,  0.2298],\n",
      "        [-0.3793, -0.0207,  0.4211]])\n",
      "tensor([[ 0.5539, -0.5983,  0.2298],\n",
      "        [-0.3793, -0.0207,  0.4211],\n",
      "        [ 0.5539, -0.5983,  0.2298],\n",
      "        [-0.3793, -0.0207,  0.4211],\n",
      "        [ 0.5539, -0.5983,  0.2298],\n",
      "        [-0.3793, -0.0207,  0.4211]])\n",
      "tensor([[ 0.5539, -0.5983,  0.2298,  0.5539, -0.5983,  0.2298,  0.5539, -0.5983,\n",
      "          0.2298],\n",
      "        [-0.3793, -0.0207,  0.4211, -0.3793, -0.0207,  0.4211, -0.3793, -0.0207,\n",
      "          0.4211]])\n"
     ]
    }
   ],
   "source": [
    "x = torch.randn(2, 3)\n",
    "print(x)\n",
    "x_cat_dim0 = torch.cat((x,x,x), dim=0)\n",
    "x_cat_dim1 = torch.cat((x,x,x), dim=1)\n",
    "print(x_cat_dim0)\n",
    "print(x_cat_dim1)\n"
   ]
  },
  {
   "cell_type": "code",
   "execution_count": 14,
   "metadata": {},
   "outputs": [
    {
     "name": "stdout",
     "output_type": "stream",
     "text": [
      "tensor([0.1882])\n",
      "torch.Size([1])\n",
      "0.1881554126739502\n",
      "<class 'float'>\n"
     ]
    }
   ],
   "source": [
    "x = torch.randn(1)\n",
    "print(x)\n",
    "print(x.size())\n",
    "print(x.item())\n",
    "print(type(x.item())) "
   ]
  },
  {
   "cell_type": "code",
   "execution_count": 15,
   "metadata": {},
   "outputs": [
    {
     "name": "stdout",
     "output_type": "stream",
     "text": [
      "tensor([[ 0.5492, -1.1300, -0.8314],\n",
      "        [-1.5408,  0.3635, -0.6417]])\n",
      "tensor([[ 0.5000, -0.5000, -0.5000],\n",
      "        [-0.5000,  0.3635, -0.5000]])\n"
     ]
    }
   ],
   "source": [
    "a =torch.randn(2,3)\n",
    "print(a)\n",
    "b =torch.clamp(a, -0.5, 0.5)\n",
    "print(b)"
   ]
  },
  {
   "cell_type": "code",
   "execution_count": 16,
   "metadata": {},
   "outputs": [
    {
     "name": "stdout",
     "output_type": "stream",
     "text": [
      "tensor([1., 1., 1., 1., 1.])\n",
      "[1. 1. 1. 1. 1.]\n",
      "tensor([2., 2., 2., 2., 2.])\n",
      "[2. 2. 2. 2. 2.]\n"
     ]
    }
   ],
   "source": [
    "a = torch.ones(5)\n",
    "print(a)\n",
    "b = a.numpy()\n",
    "print(b)\n",
    "a.add_(1)\n",
    "print(a)\n",
    "print(b)"
   ]
  },
  {
   "cell_type": "code",
   "execution_count": 17,
   "metadata": {},
   "outputs": [
    {
     "name": "stdout",
     "output_type": "stream",
     "text": [
      "[2. 2. 2. 2. 2.]\n",
      "tensor([2., 2., 2., 2., 2.], dtype=torch.float64)\n"
     ]
    }
   ],
   "source": [
    "import numpy as np\n",
    "a = np.ones(5)\n",
    "b = torch.from_numpy(a)\n",
    "np.add(a, 1, out=a)\n",
    "print(a)\n",
    "print(b) \n"
   ]
  }
 ],
 "metadata": {
  "kernelspec": {
   "display_name": "cv",
   "language": "python",
   "name": "python3"
  },
  "language_info": {
   "codemirror_mode": {
    "name": "ipython",
    "version": 3
   },
   "file_extension": ".py",
   "mimetype": "text/x-python",
   "name": "python",
   "nbconvert_exporter": "python",
   "pygments_lexer": "ipython3",
   "version": "3.12.5"
  }
 },
 "nbformat": 4,
 "nbformat_minor": 2
}
